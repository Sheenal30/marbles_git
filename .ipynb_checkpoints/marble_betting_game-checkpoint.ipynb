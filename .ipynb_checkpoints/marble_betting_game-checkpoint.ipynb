{
 "cells": [
  {
   "cell_type": "code",
   "execution_count": 11,
   "id": "94125bd1",
   "metadata": {},
   "outputs": [],
   "source": [
    "# draw a marble from a bag (assume it's random)\n",
    "# a bag has 10 marbles: 6 green and 4 red\n",
    "# if you draw a green marble you win same amount that you bet, if you draw a red marble you lose amount you bet.\n",
    "# marbles are replaced into bag after each round\n",
    "# before each draw decide how much you will bet and enter it\n",
    "# you start the game with 1,000 gold pieces or s,£,€\n",
    "# the number of rounds/draws should be variable\n",
    "# if you lose half of your money game is over\n",
    "# print/show out data as you go along, and remember you have to print data in the inputprompt as printouts are not seen in Scrimba when code is running.\n",
    "# Bonus:\n",
    "# replace two marbles 1 green with a black 10X winner marble, 1 red with a 5X white loser marble"
   ]
  },
  {
   "cell_type": "code",
   "execution_count": null,
   "id": "45572431",
   "metadata": {},
   "outputs": [
    {
     "name": "stdout",
     "output_type": "stream",
     "text": [
      "You have a marble bag with 5 green marbles, 3 red marbles, 1 black marbles, and 1 white marbles.\n"
     ]
    },
    {
     "ename": "ValueError",
     "evalue": "invalid literal for int() with base 10: ''",
     "output_type": "error",
     "traceback": [
      "\u001b[31m---------------------------------------------------------------------------\u001b[39m",
      "\u001b[31mValueError\u001b[39m                                Traceback (most recent call last)",
      "\u001b[36mCell\u001b[39m\u001b[36m \u001b[39m\u001b[32mIn[12]\u001b[39m\u001b[32m, line 38\u001b[39m\n\u001b[32m     35\u001b[39m white = \u001b[32m1\u001b[39m\n\u001b[32m     37\u001b[39m \u001b[38;5;28mprint\u001b[39m (\u001b[33mf\u001b[39m\u001b[33m\"\u001b[39m\u001b[33mYou have a marble bag with \u001b[39m\u001b[38;5;132;01m{\u001b[39;00mgreen\u001b[38;5;132;01m}\u001b[39;00m\u001b[33m green marbles, \u001b[39m\u001b[38;5;132;01m{\u001b[39;00mred\u001b[38;5;132;01m}\u001b[39;00m\u001b[33m red marbles, \u001b[39m\u001b[38;5;132;01m{\u001b[39;00mblack\u001b[38;5;132;01m}\u001b[39;00m\u001b[33m black marbles, and \u001b[39m\u001b[38;5;132;01m{\u001b[39;00mwhite\u001b[38;5;132;01m}\u001b[39;00m\u001b[33m white marbles.\u001b[39m\u001b[33m\"\u001b[39m)\n\u001b[32m---> \u001b[39m\u001b[32m38\u001b[39m gold = \u001b[38;5;28;43mint\u001b[39;49m\u001b[43m(\u001b[49m\u001b[38;5;28;43minput\u001b[39;49m\u001b[43m(\u001b[49m\u001b[33;43m\"\u001b[39;49m\u001b[33;43mHow much gold do you want to start with? \u001b[39;49m\u001b[33;43m\"\u001b[39;49m\u001b[43m)\u001b[49m\u001b[43m)\u001b[49m\n\u001b[32m     39\u001b[39m \u001b[38;5;28mprint\u001b[39m(\u001b[33mf\u001b[39m\u001b[33m\"\u001b[39m\u001b[33mYou have \u001b[39m\u001b[38;5;132;01m{\u001b[39;00mgold\u001b[38;5;132;01m}\u001b[39;00m\u001b[33m gold.\u001b[39m\u001b[33m\"\u001b[39m)\n\u001b[32m     40\u001b[39m draws = \u001b[38;5;28mint\u001b[39m(\u001b[38;5;28minput\u001b[39m(\u001b[33m\"\u001b[39m\u001b[33mHow many draws you want to do?\u001b[39m\u001b[33m\"\u001b[39m))\n",
      "\u001b[31mValueError\u001b[39m: invalid literal for int() with base 10: ''"
     ]
    }
   ],
   "source": [
    "import random\n",
    "\n",
    "def marble_bag(red, green, black, white):\n",
    "    return [\"red\"] * red + [\"green\"] * green + [\"black\"] * black + [\"white\"] * white\n",
    "\n",
    "def game(marble_bag, bet):\n",
    "    drawn = random.choice(marble_bag)\n",
    "    print(f\"The drawn marble is {drawn}\")\n",
    "    \n",
    "    multipliers = {\n",
    "        \"green\": 2,\n",
    "        \"red\": -1,\n",
    "        \"black\": 10,\n",
    "        \"white\": -5\n",
    "    }\n",
    "    \n",
    "    result = bet * multipliers[drawn]\n",
    "    \n",
    "    if result > 0:\n",
    "        print(f\"You win {result} gold, it's {drawn}\")\n",
    "    else:\n",
    "        print(f\"You lose {-result} gold, it's {drawn}\")\n",
    "    \n",
    "    return result\n",
    "\n",
    "# Set up the bag\n",
    "green, red, black, white = 5, 3, 1, 1\n",
    "bag = marble_bag(red, green, black, white)\n",
    "\n",
    "print(f\"You have a marble bag with {green} green marbles, {red} red marbles, {black} black marbles, and {white} white marbles.\")\n",
    "\n",
    "# Game setup\n",
    "gold = int(input(\"How much gold do you want to start with? \"))\n",
    "print(f\"You have {gold} gold.\")\n",
    "draws = int(input(\"How many draws do you want to do? \"))\n",
    "print(f\"You have {draws} draws unless you type 'exit' or lose more than half your gold.\")\n",
    "\n",
    "gold_remaining = gold\n",
    "i = 1\n",
    "\n",
    "while i <= draws and gold_remaining > (gold / 2):\n",
    "    bet_input = input(\"How much do you want to bet? (type 'exit' to quit): \")\n",
    "\n",
    "    if bet_input.lower() == \"exit\":\n",
    "        print(\"Exiting the game.\")\n",
    "        break\n",
    "\n",
    "    if not bet_input.isdigit():\n",
    "        print(\"Please enter a valid number.\")\n",
    "        continue\n",
    "\n",
    "    bet = int(bet_input)\n",
    "\n",
    "    if bet <= 0 or bet > gold_remaining:\n",
    "        print(\"Invalid bet amount. Must be positive and not more than your current gold.\")\n",
    "        continue\n",
    "\n",
    "    print(f\"\\nDraw {i}: You are betting {bet} gold\")\n",
    "    gold_remaining += game(bag, bet)\n",
    "    print(f\"You now have {gold_remaining} gold remaining.\\n\")\n",
    "    i += 1\n",
    "\n",
    "# Final summary\n",
    "print(\"-\" * 40)\n",
    "if gold_remaining < gold / 2:\n",
    "    print(\"You lose! Less than half your gold remains.\")\n",
    "elif gold_remaining > gold:\n",
    "    print(f\"You won {gold_remaining - gold} gold in these rounds.\")\n",
    "else:\n",
    "    print(f\"You ended the game with {gold_remaining} gold.\")\n"
   ]
  }
 ],
 "metadata": {
  "kernelspec": {
   "display_name": "Python 3",
   "language": "python",
   "name": "python3"
  },
  "language_info": {
   "codemirror_mode": {
    "name": "ipython",
    "version": 3
   },
   "file_extension": ".py",
   "mimetype": "text/x-python",
   "name": "python",
   "nbconvert_exporter": "python",
   "pygments_lexer": "ipython3",
   "version": "3.12.0"
  }
 },
 "nbformat": 4,
 "nbformat_minor": 5
}
